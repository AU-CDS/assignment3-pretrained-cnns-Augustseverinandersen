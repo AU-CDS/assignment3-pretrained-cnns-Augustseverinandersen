{
 "cells": [
  {
   "cell_type": "code",
   "execution_count": 47,
   "metadata": {},
   "outputs": [],
   "source": [
    "# tf tools\n",
    "import tensorflow as tf\n",
    "\n",
    "# image processsing\n",
    "from tensorflow.keras.preprocessing.image import (load_img,\n",
    "                                                  img_to_array,\n",
    "                                                  ImageDataGenerator)\n",
    "# VGG16 model\n",
    "from tensorflow.keras.applications.vgg16 import (preprocess_input,\n",
    "                                                 decode_predictions,\n",
    "                                                 VGG16)\n",
    "# cifar10 data - 32x32\n",
    "from tensorflow.keras.datasets import cifar10\n",
    "\n",
    "# layers\n",
    "from tensorflow.keras.layers import (Flatten, \n",
    "                                     Dense, \n",
    "                                     Dropout, \n",
    "                                     BatchNormalization)\n",
    "# generic model object\n",
    "from tensorflow.keras.models import Model\n",
    "\n",
    "# optimizers\n",
    "from tensorflow.keras.optimizers.schedules import ExponentialDecay\n",
    "from tensorflow.keras.optimizers import SGD\n",
    "\n",
    "#scikit-learn\n",
    "from sklearn.preprocessing import LabelBinarizer\n",
    "from sklearn.metrics import classification_report\n",
    "\n",
    "# for plotting\n",
    "import numpy as np\n",
    "import matplotlib.pyplot as plt\n",
    "import pandas as pd\n",
    "import os\n",
    "import argparse\n",
    "import sys\n",
    "sys.path.append(\".\")\n",
    "\n"
   ]
  },
  {
   "cell_type": "markdown",
   "metadata": {},
   "source": [
    "- LOad images in with specific size \n",
    "- create modal with input size \n",
    "- maybe normalise images \n",
    "- binarize labels."
   ]
  },
  {
   "cell_type": "markdown",
   "metadata": {},
   "source": [
    "# Json FIles"
   ]
  },
  {
   "cell_type": "code",
   "execution_count": 84,
   "metadata": {},
   "outputs": [],
   "source": [
    "def input_parse():\n",
    "    # initialize the parser\n",
    "    parser = argparse.ArgumentParser()\n",
    "    parser.add_argument(\"--filepath\", type=str) # argument is filepath as a string\n",
    "    parser.add_argument(\"--train_sample_size\", type = int, default = 91166)\n",
    "    parser.add_argument(\"--val_sample_size\", type = int, default = 7500)\n",
    "    parser.add_argument(\"--test_sample_size\", type = int, default = 7500)\n",
    "    parser.add_argument(\"--epochs\", type = int, default = 10)\n",
    "    args = parser.parse_args()\n",
    "\n",
    "    return args"
   ]
  },
  {
   "cell_type": "code",
   "execution_count": 72,
   "metadata": {},
   "outputs": [],
   "source": [
    "def loading_metadata(args):\n",
    "    print(\"Loading metadata to dataframes\")\n",
    "    test_metadata = pd.read_json(os.path.join( args.filepath, \"metadata\", \"test_data.json\"), lines=True) # Loading in JSON files of metadata\n",
    "    train_metadata = pd.read_json(os.path.join(args.filepath, \"metadata\", \"train_data.json\"), lines=True)\n",
    "    val_metadata = pd.read_json(os.path.join(args.filepath, \"metadata\", \"val_data.json\"), lines=True)\n",
    "    return test_metadata, train_metadata, val_metadata"
   ]
  },
  {
   "cell_type": "code",
   "execution_count": 67,
   "metadata": {},
   "outputs": [],
   "source": []
  },
  {
   "cell_type": "code",
   "execution_count": 49,
   "metadata": {},
   "outputs": [],
   "source": [
    "def sampling(test_metadata, train_metadata, val_metadata):\n",
    "    test_metadata = test_metadata.sample(1000)\n",
    "    train_metadata = train_metadata.sample(2000)\n",
    "    val_metadata = val_metadata.sample(1000)\n",
    "    return test_metadata, train_metadata, val_metadata"
   ]
  },
  {
   "cell_type": "markdown",
   "metadata": {},
   "source": [
    "## Code with flow from dir"
   ]
  },
  {
   "cell_type": "code",
   "execution_count": 52,
   "metadata": {},
   "outputs": [],
   "source": [
    "def image_data_generator():\n",
    "    # Data augmentaion \n",
    "    # ImageDataGenerator from tensorflow \n",
    "    datagen = ImageDataGenerator(horizontal_flip=True, # Flip it horizontally around the access\n",
    "                                rotation_range=20, # Rotate the image randomly 20 degress around the access\n",
    "                                rescale = 1/255 # rescale it between 0-1\n",
    "    )\n",
    "    # Take your images, create a pipelie (Take an image modify it, pass it on)\n",
    "    return datagen"
   ]
  },
  {
   "cell_type": "code",
   "execution_count": 53,
   "metadata": {},
   "outputs": [],
   "source": [
    "def image_directory(args):\n",
    "    main_dir = os.path.dirname(args.filepath)\n",
    "    directory_images = main_dir # removing the last part of the specified filepath\n",
    "    return directory_images"
   ]
  },
  {
   "cell_type": "code",
   "execution_count": null,
   "metadata": {},
   "outputs": [],
   "source": []
  },
  {
   "cell_type": "code",
   "execution_count": 54,
   "metadata": {},
   "outputs": [
    {
     "name": "stdout",
     "output_type": "stream",
     "text": [
      "Found 2000 validated image filenames belonging to 15 classes.\n"
     ]
    }
   ],
   "source": [
    "def training_images(train_metadata, directory_images):\n",
    "    train_tf = datagen.flow_from_dataframe( # using keras flow  from dataframe \n",
    "        dataframe = train_metadata, # Defining dataframe \n",
    "        directory = directory_images, # Path to images \n",
    "        x_col = \"image_path\", # rest of the image path from dataframe \n",
    "        y_col = \"class_label\", # column label\n",
    "        subset = \"training\", # what this data is \n",
    "        target_size=(224, 224), # image should be loaded in as size \n",
    "        color_mode=\"rgb\", # colors \n",
    "        class_mode = \"categorical\", # One hot encoding the labels \n",
    "        batch_size = 128, # take images of batchs 128 at a time\n",
    "        shuffle = True # shuffle the images around \n",
    "    )\n",
    "    return train_tf"
   ]
  },
  {
   "cell_type": "code",
   "execution_count": 55,
   "metadata": {},
   "outputs": [
    {
     "name": "stdout",
     "output_type": "stream",
     "text": [
      "Found 1000 validated image filenames belonging to 15 classes.\n"
     ]
    }
   ],
   "source": [
    "def val_images(val_metadata, directory_images):\n",
    "    val_tf = datagen.flow_from_dataframe(\n",
    "        dataframe = val_metadata,\n",
    "        directory = directory_images,\n",
    "        x_col = \"image_path\",\n",
    "        y_col = \"class_label\",\n",
    "        #subset = \"validation\",\n",
    "        target_size=(224, 224),\n",
    "        color_mode=\"rgb\",\n",
    "        class_mode = \"categorical\",\n",
    "        batch_size = 128,\n",
    "        shuffle = True\n",
    "    )\n",
    "    return val_tf"
   ]
  },
  {
   "cell_type": "code",
   "execution_count": 73,
   "metadata": {},
   "outputs": [],
   "source": [
    "def test_image_generator():\n",
    "    test_datagen = ImageDataGenerator(\n",
    "                                    rescale = 1./255. # datagenerator for test, it only has to rescale the images \n",
    "    )\n",
    "    return test_datagen"
   ]
  },
  {
   "cell_type": "code",
   "execution_count": 57,
   "metadata": {},
   "outputs": [
    {
     "name": "stdout",
     "output_type": "stream",
     "text": [
      "Found 1000 validated image filenames.\n"
     ]
    }
   ],
   "source": [
    "def test_images(test_metadata, directory_images):\n",
    "    test_tf = test_datagen.flow_from_dataframe(\n",
    "        dataframe = test_metadata,\n",
    "        directory = directory_images,\n",
    "        x_col = \"image_path\",\n",
    "        target_size=(224, 224),\n",
    "        color_mode=\"rgb\",\n",
    "        class_mode = None,\n",
    "        batch_size = 128,\n",
    "        shuffle = False # do not shuffle the images \n",
    "    )"
   ]
  },
  {
   "cell_type": "code",
   "execution_count": null,
   "metadata": {},
   "outputs": [],
   "source": []
  },
  {
   "cell_type": "markdown",
   "metadata": {},
   "source": [
    "# Model"
   ]
  },
  {
   "cell_type": "code",
   "execution_count": 58,
   "metadata": {},
   "outputs": [
    {
     "name": "stdout",
     "output_type": "stream",
     "text": [
      "Model: \"model_1\"\n",
      "_________________________________________________________________\n",
      " Layer (type)                Output Shape              Param #   \n",
      "=================================================================\n",
      " input_2 (InputLayer)        [(None, 224, 224, 3)]     0         \n",
      "                                                                 \n",
      " block1_conv1 (Conv2D)       (None, 224, 224, 64)      1792      \n",
      "                                                                 \n",
      " block1_conv2 (Conv2D)       (None, 224, 224, 64)      36928     \n",
      "                                                                 \n",
      " block1_pool (MaxPooling2D)  (None, 112, 112, 64)      0         \n",
      "                                                                 \n",
      " block2_conv1 (Conv2D)       (None, 112, 112, 128)     73856     \n",
      "                                                                 \n",
      " block2_conv2 (Conv2D)       (None, 112, 112, 128)     147584    \n",
      "                                                                 \n",
      " block2_pool (MaxPooling2D)  (None, 56, 56, 128)       0         \n",
      "                                                                 \n",
      " block3_conv1 (Conv2D)       (None, 56, 56, 256)       295168    \n",
      "                                                                 \n",
      " block3_conv2 (Conv2D)       (None, 56, 56, 256)       590080    \n",
      "                                                                 \n",
      " block3_conv3 (Conv2D)       (None, 56, 56, 256)       590080    \n",
      "                                                                 \n",
      " block3_pool (MaxPooling2D)  (None, 28, 28, 256)       0         \n",
      "                                                                 \n",
      " block4_conv1 (Conv2D)       (None, 28, 28, 512)       1180160   \n",
      "                                                                 \n",
      " block4_conv2 (Conv2D)       (None, 28, 28, 512)       2359808   \n",
      "                                                                 \n",
      " block4_conv3 (Conv2D)       (None, 28, 28, 512)       2359808   \n",
      "                                                                 \n",
      " block4_pool (MaxPooling2D)  (None, 14, 14, 512)       0         \n",
      "                                                                 \n",
      " block5_conv1 (Conv2D)       (None, 14, 14, 512)       2359808   \n",
      "                                                                 \n",
      " block5_conv2 (Conv2D)       (None, 14, 14, 512)       2359808   \n",
      "                                                                 \n",
      " block5_conv3 (Conv2D)       (None, 14, 14, 512)       2359808   \n",
      "                                                                 \n",
      " block5_pool (MaxPooling2D)  (None, 7, 7, 512)         0         \n",
      "                                                                 \n",
      " global_average_pooling2d_1   (None, 512)              0         \n",
      " (GlobalAveragePooling2D)                                        \n",
      "                                                                 \n",
      " flatten_1 (Flatten)         (None, 512)               0         \n",
      "                                                                 \n",
      " batch_normalization_1 (Batc  (None, 512)              2048      \n",
      " hNormalization)                                                 \n",
      "                                                                 \n",
      " dense_3 (Dense)             (None, 256)               131328    \n",
      "                                                                 \n",
      " dense_4 (Dense)             (None, 128)               32896     \n",
      "                                                                 \n",
      " dense_5 (Dense)             (None, 15)                1935      \n",
      "                                                                 \n",
      "=================================================================\n",
      "Total params: 14,882,895\n",
      "Trainable params: 167,183\n",
      "Non-trainable params: 14,715,712\n",
      "_________________________________________________________________\n"
     ]
    }
   ],
   "source": [
    "def load_model():  \n",
    "    # load model without classifier layers\n",
    "    model = VGG16(include_top=False, \n",
    "                pooling='avg',\n",
    "                input_shape=(224, 224, 3))\n",
    "\n",
    "    # mark loaded layers as not trainable\n",
    "    for layer in model.layers:\n",
    "        layer.trainable = False\n",
    "        \n",
    "    # add new classifier layers\n",
    "    flat1 = Flatten()(model.layers[-1].output)\n",
    "    bn = BatchNormalization()(flat1) # Added batnormalization from tensorflow. Take the previouslayer, normalise the values, and than pass them on\n",
    "    class1 = Dense(256, \n",
    "                activation='relu')(bn) # Added new classification layer \n",
    "    class2 = Dense(128, \n",
    "                activation='relu')(class1)\n",
    "    output = Dense(15, # 15 labels\n",
    "                activation='softmax')(class2)\n",
    "\n",
    "    # define new model\n",
    "    model = Model(inputs=model.inputs, \n",
    "                outputs=output)\n",
    "\n",
    "    # compile\n",
    "    lr_schedule = tf.keras.optimizers.schedules.ExponentialDecay(\n",
    "        initial_learning_rate=0.01,\n",
    "        decay_steps=10000,\n",
    "        decay_rate=0.9)\n",
    "    sgd = SGD(learning_rate=lr_schedule)\n",
    "\n",
    "    model.compile(optimizer=sgd,\n",
    "                loss='categorical_crossentropy',\n",
    "                metrics=['accuracy'])\n",
    "    # summarize\n",
    "    print(model.summary())\n",
    "    return model"
   ]
  },
  {
   "cell_type": "markdown",
   "metadata": {},
   "source": [
    "### Train model"
   ]
  },
  {
   "cell_type": "code",
   "execution_count": 59,
   "metadata": {},
   "outputs": [
    {
     "name": "stdout",
     "output_type": "stream",
     "text": [
      "Epoch 1/10\n"
     ]
    },
    {
     "name": "stderr",
     "output_type": "stream",
     "text": [
      "2023-04-26 21:34:45.993252: I tensorflow/core/common_runtime/executor.cc:1197] [/device:CPU:0] (DEBUG INFO) Executor start aborting (this does not indicate an error and you can ignore this message): INVALID_ARGUMENT: You must feed a value for placeholder tensor 'Placeholder/_0' with dtype int32\n",
      "\t [[{{node Placeholder/_0}}]]\n"
     ]
    },
    {
     "name": "stdout",
     "output_type": "stream",
     "text": [
      "16/16 [==============================] - ETA: 0s - loss: 2.7950 - accuracy: 0.0845 "
     ]
    },
    {
     "name": "stderr",
     "output_type": "stream",
     "text": [
      "2023-04-26 21:38:11.510401: I tensorflow/core/common_runtime/executor.cc:1197] [/device:CPU:0] (DEBUG INFO) Executor start aborting (this does not indicate an error and you can ignore this message): INVALID_ARGUMENT: You must feed a value for placeholder tensor 'Placeholder/_0' with dtype int32\n",
      "\t [[{{node Placeholder/_0}}]]\n"
     ]
    },
    {
     "name": "stdout",
     "output_type": "stream",
     "text": [
      "16/16 [==============================] - 290s 18s/step - loss: 2.7950 - accuracy: 0.0845 - val_loss: 2.7381 - val_accuracy: 0.0710\n",
      "Epoch 2/10\n",
      "16/16 [==============================] - 121s 8s/step - loss: 2.5054 - accuracy: 0.1995 - val_loss: 2.7086 - val_accuracy: 0.0710\n",
      "Epoch 3/10\n",
      "16/16 [==============================] - 90s 6s/step - loss: 2.2947 - accuracy: 0.2960 - val_loss: 2.6756 - val_accuracy: 0.0760\n",
      "Epoch 4/10\n",
      "16/16 [==============================] - 91s 6s/step - loss: 2.1376 - accuracy: 0.3740 - val_loss: 2.6354 - val_accuracy: 0.0910\n",
      "Epoch 5/10\n",
      "16/16 [==============================] - 90s 6s/step - loss: 1.9786 - accuracy: 0.4225 - val_loss: 2.5916 - val_accuracy: 0.1040\n",
      "Epoch 6/10\n",
      "16/16 [==============================] - 89s 6s/step - loss: 1.8726 - accuracy: 0.4525 - val_loss: 2.5538 - val_accuracy: 0.1270\n",
      "Epoch 7/10\n",
      "16/16 [==============================] - 90s 6s/step - loss: 1.7584 - accuracy: 0.4920 - val_loss: 2.5018 - val_accuracy: 0.1660\n",
      "Epoch 8/10\n",
      "16/16 [==============================] - 90s 6s/step - loss: 1.6668 - accuracy: 0.5150 - val_loss: 2.4436 - val_accuracy: 0.2180\n",
      "Epoch 9/10\n",
      "16/16 [==============================] - 91s 6s/step - loss: 1.6026 - accuracy: 0.5335 - val_loss: 2.3882 - val_accuracy: 0.2690\n",
      "Epoch 10/10\n",
      "16/16 [==============================] - 91s 6s/step - loss: 1.5184 - accuracy: 0.5565 - val_loss: 2.3224 - val_accuracy: 0.3220\n"
     ]
    }
   ],
   "source": [
    "def train_model(train_tf, val_tf, args):\n",
    "    # fit the data generator to our images\n",
    "\n",
    "    # fits the model on batches with real-time data augmentation:\n",
    "\n",
    "    H = model.fit( # fitting the model to \n",
    "        train_tf, # training tensorflow dataframe \n",
    "        steps_per_epoch = len(train_tf), # take as many steps as the length of the dataframe \n",
    "        validation_data = val_tf, # Validation data \n",
    "        validation_steps = len(val_tf), \n",
    "        epochs = args.epochs\n",
    "    )\n",
    "    # Possible to get image (stream the image) (stream it frow the dataGenerator) from the folder, instead of loading the image into the script. \n",
    "    return H"
   ]
  },
  {
   "cell_type": "code",
   "execution_count": null,
   "metadata": {},
   "outputs": [],
   "source": []
  },
  {
   "cell_type": "code",
   "execution_count": 79,
   "metadata": {},
   "outputs": [],
   "source": [
    "def plot_history(H, epochs, save_path):\n",
    "    plt.style.use(\"seaborn-colorblind\")\n",
    "\n",
    "    plt.figure(figsize=(12,6))\n",
    "    plt.subplot(1,2,1)\n",
    "    plt.plot(np.arange(0, epochs), H.history[\"loss\"], label=\"train_loss\")\n",
    "    plt.plot(np.arange(0, epochs), H.history[\"val_loss\"], label=\"val_loss\", linestyle=\":\")\n",
    "    plt.title(\"Loss curve\")\n",
    "    plt.xlabel(\"Epoch\")\n",
    "    plt.ylabel(\"Loss\")\n",
    "    plt.tight_layout()\n",
    "    plt.legend()\n",
    "\n",
    "    plt.subplot(1,2,2)\n",
    "    plt.plot(np.arange(0, epochs), H.history[\"accuracy\"], label=\"train_acc\")\n",
    "    plt.plot(np.arange(0, epochs), H.history[\"val_accuracy\"], label=\"val_acc\", linestyle=\":\")\n",
    "    plt.title(\"Accuracy curve\")\n",
    "    plt.xlabel(\"Epoch\")\n",
    "    plt.ylabel(\"Accuracy\")\n",
    "    plt.tight_layout()\n",
    "    plt.legend()\n",
    "    plt.savefig(os.path.join(save_path, \"loss_and_accuracy_curve.png\"))"
   ]
  },
  {
   "cell_type": "code",
   "execution_count": 80,
   "metadata": {},
   "outputs": [
    {
     "name": "stderr",
     "output_type": "stream",
     "text": [
      "/tmp/ipykernel_1032/384103208.py:2: MatplotlibDeprecationWarning: The seaborn styles shipped by Matplotlib are deprecated since 3.6, as they no longer correspond to the styles shipped by seaborn. However, they will remain available as 'seaborn-v0_8-<style>'. Alternatively, directly use the seaborn API instead.\n",
      "  plt.style.use(\"seaborn-colorblind\")\n"
     ]
    },
    {
     "data": {
      "image/png": "[encoded data removed]",
      "text/plain": [
       "<Figure size 1200x600 with 2 Axes>"
      ]
     },
     "metadata": {},
     "output_type": "display_data"
    }
   ],
   "source": [
    "def plot_model_history(H, args. save_path):\n",
    "    save_path = os.path.join(\"..\", \"figs\")\n",
    "    plot_history(H, 10, save_path)\n"
   ]
  },
  {
   "cell_type": "markdown",
   "metadata": {},
   "source": [
    "code taken from https://vijayabhaskar96.medium.com/tutorial-on-keras-flow-from-dataframe-1fd4493d237c"
   ]
  },
  {
   "cell_type": "code",
   "execution_count": 82,
   "metadata": {},
   "outputs": [
    {
     "name": "stderr",
     "output_type": "stream",
     "text": [
      "2023-04-26 22:47:33.933191: I tensorflow/core/common_runtime/executor.cc:1197] [/device:CPU:0] (DEBUG INFO) Executor start aborting (this does not indicate an error and you can ignore this message): INVALID_ARGUMENT: You must feed a value for placeholder tensor 'Placeholder/_0' with dtype int32\n",
      "\t [[{{node Placeholder/_0}}]]\n"
     ]
    },
    {
     "name": "stdout",
     "output_type": "stream",
     "text": [
      "8/8 [==============================] - 60s 8s/step\n"
     ]
    },
    {
     "ename": "NameError",
     "evalue": "name 'train_tf' is not defined",
     "output_type": "error",
     "traceback": [
      "\u001b[0;31m---------------------------------------------------------------------------\u001b[0m",
      "\u001b[0;31mNameError\u001b[0m                                 Traceback (most recent call last)",
      "Cell \u001b[0;32mIn[82], line 7\u001b[0m\n\u001b[1;32m      4\u001b[0m pred \u001b[39m=\u001b[39m np\u001b[39m.\u001b[39margmax(pred,axis\u001b[39m=\u001b[39m\u001b[39m1\u001b[39m)\n\u001b[1;32m      6\u001b[0m     \u001b[39m# Map the label \u001b[39;00m\n\u001b[0;32m----> 7\u001b[0m labels \u001b[39m=\u001b[39m (train_tf\u001b[39m.\u001b[39mclass_indices)\n\u001b[1;32m      8\u001b[0m labels \u001b[39m=\u001b[39m \u001b[39mdict\u001b[39m((v,k) \u001b[39mfor\u001b[39;00m k,v \u001b[39min\u001b[39;00m labels\u001b[39m.\u001b[39mitems())\n\u001b[1;32m      9\u001b[0m pred1 \u001b[39m=\u001b[39m [labels[k] \u001b[39mfor\u001b[39;00m k \u001b[39min\u001b[39;00m pred]\n",
      "\u001b[0;31mNameError\u001b[0m: name 'train_tf' is not defined"
     ]
    }
   ],
   "source": [
    "def prediction(test_tf, train_tf):\n",
    "    # Predict the label of the test_images\n",
    "    pred = model.predict(test_tf)\n",
    "    pred = np.argmax(pred,axis=1)\n",
    "\n",
    "    # Map the label \n",
    "    labels = (train_tf.class_indices)\n",
    "    labels = dict((v,k) for k,v in labels.items())\n",
    "    pred1 = [labels[k] for k in pred]\n",
    "    retun pred, pred1\n",
    "    # Display the result\n",
    "    #print(f'The first 5 predictions: {pred[:20]}')"
   ]
  },
  {
   "cell_type": "markdown",
   "metadata": {},
   "source": [
    "Obtain the true classes for your test or validation data:"
   ]
  },
  {
   "cell_type": "code",
   "execution_count": null,
   "metadata": {},
   "outputs": [],
   "source": []
  },
  {
   "cell_type": "code",
   "execution_count": 63,
   "metadata": {},
   "outputs": [],
   "source": []
  },
  {
   "cell_type": "markdown",
   "metadata": {},
   "source": [
    "Generate the classification report for the test or validation data:"
   ]
  },
  {
   "cell_type": "code",
   "execution_count": 64,
   "metadata": {},
   "outputs": [
    {
     "name": "stdout",
     "output_type": "stream",
     "text": [
      "Classification Report - Test Data:\n",
      "                      precision    recall  f1-score   support\n",
      "\n",
      "              blouse       0.85      0.68      0.75        59\n",
      "         dhoti_pants       0.00      0.00      0.00        74\n",
      "            dupattas       0.25      0.06      0.09        71\n",
      "               gowns       0.36      0.31      0.33        68\n",
      "           kurta_men       0.38      0.08      0.14        61\n",
      "leggings_and_salwars       0.35      0.76      0.48        78\n",
      "             lehenga       0.89      0.32      0.47        76\n",
      "         mojaris_men       0.00      0.00      0.00        70\n",
      "       mojaris_women       0.53      0.74      0.61        68\n",
      "       nehru_jackets       0.51      0.43      0.47        56\n",
      "            palazzos       0.43      0.18      0.26        65\n",
      "          petticoats       1.00      0.12      0.21        60\n",
      "               saree       0.44      0.66      0.53        68\n",
      "           sherwanis       1.00      0.01      0.03        71\n",
      "         women_kurta       0.13      0.89      0.22        55\n",
      "\n",
      "            accuracy                           0.34      1000\n",
      "           macro avg       0.47      0.35      0.31      1000\n",
      "        weighted avg       0.47      0.34      0.30      1000\n",
      "\n"
     ]
    },
    {
     "name": "stderr",
     "output_type": "stream",
     "text": [
      "/home/coder/.local/lib/python3.9/site-packages/sklearn/metrics/_classification.py:1344: UndefinedMetricWarning: Precision and F-score are ill-defined and being set to 0.0 in labels with no predicted samples. Use `zero_division` parameter to control this behavior.\n",
      "  _warn_prf(average, modifier, msg_start, len(result))\n",
      "/home/coder/.local/lib/python3.9/site-packages/sklearn/metrics/_classification.py:1344: UndefinedMetricWarning: Precision and F-score are ill-defined and being set to 0.0 in labels with no predicted samples. Use `zero_division` parameter to control this behavior.\n",
      "  _warn_prf(average, modifier, msg_start, len(result))\n",
      "/home/coder/.local/lib/python3.9/site-packages/sklearn/metrics/_classification.py:1344: UndefinedMetricWarning: Precision and F-score are ill-defined and being set to 0.0 in labels with no predicted samples. Use `zero_division` parameter to control this behavior.\n",
      "  _warn_prf(average, modifier, msg_start, len(result))\n"
     ]
    }
   ],
   "source": [
    "def classification_report_function(test_metadata, pred):\n",
    "    y_true = test_metadata['class_label'].values\n",
    "    classification_report_test = classification_report(y_true, pred)\n",
    "    print(\"Classification Report - Test Data:\")\n",
    "    print(classification_report_test)\n",
    "\n"
   ]
  },
  {
   "cell_type": "code",
   "execution_count": null,
   "metadata": {},
   "outputs": [],
   "source": []
  },
  {
   "cell_type": "code",
   "execution_count": 85,
   "metadata": {},
   "outputs": [
    {
     "ename": "NameError",
     "evalue": "name 'parser' is not defined",
     "output_type": "error",
     "traceback": [
      "\u001b[0;31m---------------------------------------------------------------------------\u001b[0m",
      "\u001b[0;31mNameError\u001b[0m                                 Traceback (most recent call last)",
      "Cell \u001b[0;32mIn[85], line 1\u001b[0m\n\u001b[0;32m----> 1\u001b[0m args \u001b[39m=\u001b[39m parser\u001b[39m.\u001b[39mparse_args([\u001b[39m'\u001b[39m\u001b[39m--filepath\u001b[39m\u001b[39m'\u001b[39m, \u001b[39m'\u001b[39m\u001b[39m./././images\u001b[39m\u001b[39m'\u001b[39m, \u001b[39m'\u001b[39m\u001b[39m--train_sample_size\u001b[39m\u001b[39m'\u001b[39m, \u001b[39m'\u001b[39m\u001b[39m1000\u001b[39m\u001b[39m'\u001b[39m, \u001b[39m\"\u001b[39m\u001b[39m--val_sample_size\u001b[39m\u001b[39m\"\u001b[39m, \u001b[39m\"\u001b[39m\u001b[39m100\u001b[39m\u001b[39m\"\u001b[39m, \u001b[39m\"\u001b[39m\u001b[39m--test_sample_size\u001b[39m\u001b[39m\"\u001b[39m, \u001b[39m\"\u001b[39m\u001b[39m100\u001b[39m\u001b[39m\"\u001b[39m])\n",
      "\u001b[0;31mNameError\u001b[0m: name 'parser' is not defined"
     ]
    }
   ],
   "source": [
    "args = parser.parse_args(['--filepath', './././images', '--train_sample_size', '1000', \"--val_sample_size\", \"100\", \"--test_sample_size\", \"100\"])"
   ]
  },
  {
   "cell_type": "code",
   "execution_count": null,
   "metadata": {},
   "outputs": [],
   "source": [
    "def mainfunction():\n",
    "  args = input_parse()\n",
    "  test_metadata, train_metadata, val_metadata = loading_metadata(args)\n",
    "  test_metadata, train_metadata, val_metadata = sampling(test_metadata, train_metadata, val_metadata)\n",
    "  datagen = image_data_generator()\n",
    "  directory_images = image_directory()\n",
    "  train_tf = training_images(train_metadata, directory_images)\n",
    "  val_tf = val_images(val_metadata, directory_images)\n",
    "  test_datagen = test_image_generator()\n",
    "  test_tf = test_images(test_metadata, directory_images)\n",
    "  model = load_model():\n",
    "  H = train_model(train_tf, val_tf, args)\n",
    "  plot_history(H, epochs)\n",
    "  plot_model_history(H, args, save_path)\n",
    "  pred, pred1 = predictions(test_tf, train_tf)\n",
    "  classification_report_function(test_metadata, pred)\n",
    "\n",
    "\n",
    "# filepath \"..\", \"..\", \"..\", \"images\""
   ]
  }
 ],
 "metadata": {
  "kernelspec": {
   "display_name": "Python 3",
   "language": "python",
   "name": "python3"
  },
  "language_info": {
   "codemirror_mode": {
    "name": "ipython",
    "version": 3
   },
   "file_extension": ".py",
   "mimetype": "text/x-python",
   "name": "python",
   "nbconvert_exporter": "python",
   "pygments_lexer": "ipython3",
   "version": "3.9.2"
  },
  "orig_nbformat": 4,
  "vscode": {
   "interpreter": {
    "hash": "767d51c1340bd893661ea55ea3124f6de3c7a262a8b4abca0554b478b1e2ff90"
   }
  }
 },
 "nbformat": 4,
 "nbformat_minor": 2
}
