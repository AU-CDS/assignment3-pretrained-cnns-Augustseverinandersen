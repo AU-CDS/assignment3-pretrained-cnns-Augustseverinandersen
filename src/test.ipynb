{
 "cells": [
  {
   "cell_type": "code",
   "execution_count": 1,
   "metadata": {},
   "outputs": [
    {
     "name": "stderr",
     "output_type": "stream",
     "text": [
      "2023-04-21 21:10:12.304402: I tensorflow/core/platform/cpu_feature_guard.cc:182] This TensorFlow binary is optimized to use available CPU instructions in performance-critical operations.\n",
      "To enable the following instructions: AVX2 AVX512F FMA, in other operations, rebuild TensorFlow with the appropriate compiler flags.\n"
     ]
    }
   ],
   "source": [
    "# tf tools\n",
    "import tensorflow as tf\n",
    "\n",
    "# image processsing\n",
    "from tensorflow.keras.preprocessing.image import (load_img,\n",
    "                                                  img_to_array,\n",
    "                                                  ImageDataGenerator)\n",
    "# VGG16 model\n",
    "from tensorflow.keras.applications.vgg16 import (preprocess_input,\n",
    "                                                 decode_predictions,\n",
    "                                                 VGG16)\n",
    "# cifar10 data - 32x32\n",
    "from tensorflow.keras.datasets import cifar10\n",
    "\n",
    "# layers\n",
    "from tensorflow.keras.layers import (Flatten, \n",
    "                                     Dense, \n",
    "                                     Dropout, \n",
    "                                     BatchNormalization)\n",
    "# generic model object\n",
    "from tensorflow.keras.models import Model\n",
    "\n",
    "# optimizers\n",
    "from tensorflow.keras.optimizers.schedules import ExponentialDecay\n",
    "from tensorflow.keras.optimizers import SGD\n",
    "\n",
    "#scikit-learn\n",
    "from sklearn.preprocessing import LabelBinarizer\n",
    "from sklearn.metrics import classification_report\n",
    "\n",
    "# for plotting\n",
    "import numpy as np\n",
    "import matplotlib.pyplot as plt\n",
    "import pandas as pd\n",
    "import os\n",
    "\n",
    "\n",
    "import random"
   ]
  },
  {
   "cell_type": "markdown",
   "metadata": {},
   "source": [
    "- LOad images in with specific size \n",
    "- create modal with input size \n",
    "- maybe normalise images \n",
    "- binarize labels."
   ]
  },
  {
   "cell_type": "markdown",
   "metadata": {},
   "source": [
    "# Json FIles"
   ]
  },
  {
   "cell_type": "code",
   "execution_count": 2,
   "metadata": {},
   "outputs": [],
   "source": [
    "test_metadata = pd.read_json(os.path.join(\"..\", \"..\", \"..\", \"431824\", \"images\", \"metadata\", \"test_data.json\"), lines=True) # Loading in JSON files of metadata\n",
    "train_metadata = pd.read_json(os.path.join(\"..\", \"..\", \"..\", \"431824\", \"images\", \"metadata\", \"train_data.json\"), lines=True)\n",
    "val_metadata = pd.read_json(os.path.join(\"..\", \"..\", \"..\", \"431824\", \"images\", \"metadata\", \"val_data.json\"), lines=True)"
   ]
  },
  {
   "cell_type": "code",
   "execution_count": 3,
   "metadata": {},
   "outputs": [],
   "source": [
    "def data_sampling(comments_list):\n",
    "    print(\"Creating Sampel\")\n",
    "    thousand_comments = random.sample(comments_list, 10) # Taking 1000 random comments from the list.\n",
    "    print(\"Sample size: \" + str(len(thousand_comments))) # Printing sample length\n",
    "    return thousand_comments"
   ]
  },
  {
   "cell_type": "code",
   "execution_count": 4,
   "metadata": {},
   "outputs": [],
   "source": [
    "test_metadata = test_metadata.sample(3000)\n",
    "train_metadata = train_metadata.sample(10000)\n",
    "val_metadata = val_metadata.sample(2000)"
   ]
  },
  {
   "cell_type": "code",
   "execution_count": 5,
   "metadata": {},
   "outputs": [
    {
     "data": {
      "text/html": [
       "<div>\n",
       "<style scoped>\n",
       "    .dataframe tbody tr th:only-of-type {\n",
       "        vertical-align: middle;\n",
       "    }\n",
       "\n",
       "    .dataframe tbody tr th {\n",
       "        vertical-align: top;\n",
       "    }\n",
       "\n",
       "    .dataframe thead th {\n",
       "        text-align: right;\n",
       "    }\n",
       "</style>\n",
       "<table border=\"1\" class=\"dataframe\">\n",
       "  <thead>\n",
       "    <tr style=\"text-align: right;\">\n",
       "      <th></th>\n",
       "      <th>image_url</th>\n",
       "      <th>image_path</th>\n",
       "      <th>brand</th>\n",
       "      <th>product_title</th>\n",
       "      <th>class_label</th>\n",
       "      <th>color</th>\n",
       "    </tr>\n",
       "  </thead>\n",
       "  <tbody>\n",
       "    <tr>\n",
       "      <th>1776</th>\n",
       "      <td>https://m.media-amazon.com/images/I/81VcSdwvzB...</td>\n",
       "      <td>images/val/1776.jpeg</td>\n",
       "      <td>BIBA</td>\n",
       "      <td>Women's cotton anarkali Salwar Suit Set</td>\n",
       "      <td>dupattas</td>\n",
       "      <td>NaN</td>\n",
       "    </tr>\n",
       "    <tr>\n",
       "      <th>5371</th>\n",
       "      <td>https://m.media-amazon.com/images/I/710ksAKtDH...</td>\n",
       "      <td>images/val/5371.jpeg</td>\n",
       "      <td>Shatranj</td>\n",
       "      <td>Printed Sleeveless Nehru Jacket</td>\n",
       "      <td>nehru_jackets</td>\n",
       "      <td>NaN</td>\n",
       "    </tr>\n",
       "    <tr>\n",
       "      <th>668</th>\n",
       "      <td>https://rukminim1.flixcart.com/image/309/371/k...</td>\n",
       "      <td>images/val/668.jpeg</td>\n",
       "      <td>kush fashion</td>\n",
       "      <td>Boat Neck Women Blouse</td>\n",
       "      <td>blouse</td>\n",
       "      <td>N/A</td>\n",
       "    </tr>\n",
       "    <tr>\n",
       "      <th>7078</th>\n",
       "      <td>https://rukminim1.flixcart.com/image/309/371/k...</td>\n",
       "      <td>images/val/7078.jpeg</td>\n",
       "      <td>BLANCORA</td>\n",
       "      <td>Women Printed Crepe Straight Kurta</td>\n",
       "      <td>women_kurta</td>\n",
       "      <td>White</td>\n",
       "    </tr>\n",
       "    <tr>\n",
       "      <th>7074</th>\n",
       "      <td>https://m.media-amazon.com/images/I/91h+O08cgK...</td>\n",
       "      <td>images/val/7074.jpeg</td>\n",
       "      <td>ANNI DESIGNER</td>\n",
       "      <td>Women's Crepe Straight Kurta Combo Pack of Fiv...</td>\n",
       "      <td>women_kurta</td>\n",
       "      <td>NaN</td>\n",
       "    </tr>\n",
       "    <tr>\n",
       "      <th>...</th>\n",
       "      <td>...</td>\n",
       "      <td>...</td>\n",
       "      <td>...</td>\n",
       "      <td>...</td>\n",
       "      <td>...</td>\n",
       "      <td>...</td>\n",
       "    </tr>\n",
       "    <tr>\n",
       "      <th>4793</th>\n",
       "      <td>https://m.media-amazon.com/images/I/51yGJgeVf3...</td>\n",
       "      <td>images/val/4793.jpeg</td>\n",
       "      <td>Rivir</td>\n",
       "      <td>Latest Collection Comfortable &amp; Fashionable Mu...</td>\n",
       "      <td>mojaris_women</td>\n",
       "      <td>NaN</td>\n",
       "    </tr>\n",
       "    <tr>\n",
       "      <th>6009</th>\n",
       "      <td>N/A</td>\n",
       "      <td>images/val/6009.jpeg</td>\n",
       "      <td>N/A</td>\n",
       "      <td>N/A</td>\n",
       "      <td>petticoats</td>\n",
       "      <td>NaN</td>\n",
       "    </tr>\n",
       "    <tr>\n",
       "      <th>3958</th>\n",
       "      <td>https://m.media-amazon.com/images/I/51Jf-4EZXF...</td>\n",
       "      <td>images/val/3958.jpeg</td>\n",
       "      <td>Amrutam Fab</td>\n",
       "      <td>Women's Velvet Semi-stitched Lehenga Choli (Ma...</td>\n",
       "      <td>lehenga</td>\n",
       "      <td>NaN</td>\n",
       "    </tr>\n",
       "    <tr>\n",
       "      <th>996</th>\n",
       "      <td>https://m.media-amazon.com/images/I/914BE1dAnv...</td>\n",
       "      <td>images/val/996.jpeg</td>\n",
       "      <td>YARAV FASHION</td>\n",
       "      <td>Women's Banglori Embroidered U Neck Stitched B...</td>\n",
       "      <td>blouse</td>\n",
       "      <td>NaN</td>\n",
       "    </tr>\n",
       "    <tr>\n",
       "      <th>3737</th>\n",
       "      <td>https://assets.myntassets.com/h_720,q_90,w_540...</td>\n",
       "      <td>images/val/3737.jpeg</td>\n",
       "      <td>Shaily</td>\n",
       "      <td>Cream-Coloured &amp;amp; Black Zari Gota Silk Blen...</td>\n",
       "      <td>lehenga</td>\n",
       "      <td>NaN</td>\n",
       "    </tr>\n",
       "  </tbody>\n",
       "</table>\n",
       "<p>2000 rows × 6 columns</p>\n",
       "</div>"
      ],
      "text/plain": [
       "                                              image_url            image_path   \n",
       "1776  https://m.media-amazon.com/images/I/81VcSdwvzB...  images/val/1776.jpeg  \\\n",
       "5371  https://m.media-amazon.com/images/I/710ksAKtDH...  images/val/5371.jpeg   \n",
       "668   https://rukminim1.flixcart.com/image/309/371/k...   images/val/668.jpeg   \n",
       "7078  https://rukminim1.flixcart.com/image/309/371/k...  images/val/7078.jpeg   \n",
       "7074  https://m.media-amazon.com/images/I/91h+O08cgK...  images/val/7074.jpeg   \n",
       "...                                                 ...                   ...   \n",
       "4793  https://m.media-amazon.com/images/I/51yGJgeVf3...  images/val/4793.jpeg   \n",
       "6009                                                N/A  images/val/6009.jpeg   \n",
       "3958  https://m.media-amazon.com/images/I/51Jf-4EZXF...  images/val/3958.jpeg   \n",
       "996   https://m.media-amazon.com/images/I/914BE1dAnv...   images/val/996.jpeg   \n",
       "3737  https://assets.myntassets.com/h_720,q_90,w_540...  images/val/3737.jpeg   \n",
       "\n",
       "              brand                                      product_title   \n",
       "1776           BIBA            Women's cotton anarkali Salwar Suit Set  \\\n",
       "5371       Shatranj                    Printed Sleeveless Nehru Jacket   \n",
       "668    kush fashion                             Boat Neck Women Blouse   \n",
       "7078       BLANCORA                 Women Printed Crepe Straight Kurta   \n",
       "7074  ANNI DESIGNER  Women's Crepe Straight Kurta Combo Pack of Fiv...   \n",
       "...             ...                                                ...   \n",
       "4793          Rivir  Latest Collection Comfortable & Fashionable Mu...   \n",
       "6009            N/A                                                N/A   \n",
       "3958    Amrutam Fab  Women's Velvet Semi-stitched Lehenga Choli (Ma...   \n",
       "996   YARAV FASHION  Women's Banglori Embroidered U Neck Stitched B...   \n",
       "3737         Shaily  Cream-Coloured &amp; Black Zari Gota Silk Blen...   \n",
       "\n",
       "        class_label  color  \n",
       "1776       dupattas    NaN  \n",
       "5371  nehru_jackets    NaN  \n",
       "668          blouse    N/A  \n",
       "7078    women_kurta  White  \n",
       "7074    women_kurta    NaN  \n",
       "...             ...    ...  \n",
       "4793  mojaris_women    NaN  \n",
       "6009     petticoats    NaN  \n",
       "3958        lehenga    NaN  \n",
       "996          blouse    NaN  \n",
       "3737        lehenga    NaN  \n",
       "\n",
       "[2000 rows x 6 columns]"
      ]
     },
     "execution_count": 5,
     "metadata": {},
     "output_type": "execute_result"
    }
   ],
   "source": [
    "val_metadata"
   ]
  },
  {
   "cell_type": "code",
   "execution_count": 6,
   "metadata": {},
   "outputs": [
    {
     "data": {
      "text/plain": [
       "array(['blouse', 'leggings_and_salwars', 'saree', 'gowns', 'kurta_men',\n",
       "       'mojaris_women', 'women_kurta', 'dhoti_pants', 'nehru_jackets',\n",
       "       'mojaris_men', 'petticoats', 'lehenga', 'dupattas', 'sherwanis',\n",
       "       'palazzos'], dtype=object)"
      ]
     },
     "execution_count": 6,
     "metadata": {},
     "output_type": "execute_result"
    }
   ],
   "source": [
    "train_metadata[\"class_label\"].unique()"
   ]
  },
  {
   "cell_type": "markdown",
   "metadata": {},
   "source": [
    "## Code with flow from dir"
   ]
  },
  {
   "cell_type": "code",
   "execution_count": 7,
   "metadata": {},
   "outputs": [],
   "source": [
    "\n",
    "# Data augmentaion \n",
    "# ImageDataGenerator from tensorflow \n",
    "datagen = ImageDataGenerator(horizontal_flip=True, # Flip it horizontally around the access\n",
    "                             rotation_range=20, # Rotate the image randomly 20 degress around the access\n",
    "                             rescale = 1/255 # rescale it between 0-1\n",
    ")\n",
    "# Take your images, create a pipelie (Take an image modify it, pass it on)"
   ]
  },
  {
   "cell_type": "code",
   "execution_count": 8,
   "metadata": {},
   "outputs": [],
   "source": [
    "directory_images = os.path.join(\"..\",\"..\",\"..\", \"431824\") # Defining path to images, the rest of the path is defined in the metadata\n"
   ]
  },
  {
   "cell_type": "code",
   "execution_count": 9,
   "metadata": {},
   "outputs": [
    {
     "name": "stdout",
     "output_type": "stream",
     "text": [
      "Found 10000 validated image filenames belonging to 15 classes.\n"
     ]
    }
   ],
   "source": [
    "X_train_tf = datagen.flow_from_dataframe( # using keras flow  from dataframe \n",
    "    dataframe = train_metadata, # Defining dataframe \n",
    "    directory = directory_images, # Path to images \n",
    "    x_col = \"image_path\", # rest of the image path from dataframe \n",
    "    y_col = \"class_label\", # column label\n",
    "    subset = \"training\", # what this data is \n",
    "    target_size=(224, 224), # image should be loaded in as size \n",
    "    color_mode=\"rgb\", # colors \n",
    "    class_mode = \"categorical\", # One hot encoding the labels \n",
    "    batch_size = 128, # take images of batchs 128 at a time\n",
    "    shuffle = True # shuffle the images around \n",
    ")"
   ]
  },
  {
   "cell_type": "code",
   "execution_count": 10,
   "metadata": {},
   "outputs": [
    {
     "name": "stdout",
     "output_type": "stream",
     "text": [
      "Found 2000 validated image filenames belonging to 15 classes.\n"
     ]
    }
   ],
   "source": [
    "val_tf = datagen.flow_from_dataframe(\n",
    "    dataframe = val_metadata,\n",
    "    directory = directory_images,\n",
    "    x_col = \"image_path\",\n",
    "    y_col = \"class_label\",\n",
    "    #subset = \"validation\",\n",
    "    target_size=(224, 224),\n",
    "    color_mode=\"rgb\",\n",
    "    class_mode = \"categorical\",\n",
    "    batch_size = 128,\n",
    "    shuffle = True\n",
    ")"
   ]
  },
  {
   "cell_type": "code",
   "execution_count": 11,
   "metadata": {},
   "outputs": [],
   "source": [
    "test_datagen = ImageDataGenerator(\n",
    "                                rescale = 1./255. # datagenerator for test, it only has to rescale the images \n",
    ")"
   ]
  },
  {
   "cell_type": "code",
   "execution_count": 12,
   "metadata": {},
   "outputs": [
    {
     "name": "stdout",
     "output_type": "stream",
     "text": [
      "Found 3000 validated image filenames.\n"
     ]
    }
   ],
   "source": [
    "test_tf = test_datagen.flow_from_dataframe(\n",
    "    dataframe = test_metadata,\n",
    "    directory = directory_images,\n",
    "    x_col = \"image_path\",\n",
    "    target_size=(224, 224),\n",
    "    color_mode=\"rgb\",\n",
    "    class_mode = None,\n",
    "    batch_size = 128,\n",
    "    shuffle = False # do not shuffle the images \n",
    ")"
   ]
  },
  {
   "cell_type": "markdown",
   "metadata": {},
   "source": [
    "# Model"
   ]
  },
  {
   "cell_type": "code",
   "execution_count": 13,
   "metadata": {},
   "outputs": [
    {
     "name": "stdout",
     "output_type": "stream",
     "text": [
      "Downloading data from https://storage.googleapis.com/tensorflow/keras-applications/vgg16/vgg16_weights_tf_dim_ordering_tf_kernels_notop.h5\n",
      "58889256/58889256 [==============================] - 2s 0us/step\n",
      "Model: \"model\"\n",
      "_________________________________________________________________\n",
      " Layer (type)                Output Shape              Param #   \n",
      "=================================================================\n",
      " input_1 (InputLayer)        [(None, 224, 224, 3)]     0         \n",
      "                                                                 \n",
      " block1_conv1 (Conv2D)       (None, 224, 224, 64)      1792      \n",
      "                                                                 \n",
      " block1_conv2 (Conv2D)       (None, 224, 224, 64)      36928     \n",
      "                                                                 \n",
      " block1_pool (MaxPooling2D)  (None, 112, 112, 64)      0         \n",
      "                                                                 \n",
      " block2_conv1 (Conv2D)       (None, 112, 112, 128)     73856     \n",
      "                                                                 \n",
      " block2_conv2 (Conv2D)       (None, 112, 112, 128)     147584    \n",
      "                                                                 \n",
      " block2_pool (MaxPooling2D)  (None, 56, 56, 128)       0         \n",
      "                                                                 \n",
      " block3_conv1 (Conv2D)       (None, 56, 56, 256)       295168    \n",
      "                                                                 \n",
      " block3_conv2 (Conv2D)       (None, 56, 56, 256)       590080    \n",
      "                                                                 \n",
      " block3_conv3 (Conv2D)       (None, 56, 56, 256)       590080    \n",
      "                                                                 \n",
      " block3_pool (MaxPooling2D)  (None, 28, 28, 256)       0         \n",
      "                                                                 \n",
      " block4_conv1 (Conv2D)       (None, 28, 28, 512)       1180160   \n",
      "                                                                 \n",
      " block4_conv2 (Conv2D)       (None, 28, 28, 512)       2359808   \n",
      "                                                                 \n",
      " block4_conv3 (Conv2D)       (None, 28, 28, 512)       2359808   \n",
      "                                                                 \n",
      " block4_pool (MaxPooling2D)  (None, 14, 14, 512)       0         \n",
      "                                                                 \n",
      " block5_conv1 (Conv2D)       (None, 14, 14, 512)       2359808   \n",
      "                                                                 \n",
      " block5_conv2 (Conv2D)       (None, 14, 14, 512)       2359808   \n",
      "                                                                 \n",
      " block5_conv3 (Conv2D)       (None, 14, 14, 512)       2359808   \n",
      "                                                                 \n",
      " block5_pool (MaxPooling2D)  (None, 7, 7, 512)         0         \n",
      "                                                                 \n",
      " global_average_pooling2d (G  (None, 512)              0         \n",
      " lobalAveragePooling2D)                                          \n",
      "                                                                 \n",
      " flatten (Flatten)           (None, 512)               0         \n",
      "                                                                 \n",
      " batch_normalization (BatchN  (None, 512)              2048      \n",
      " ormalization)                                                   \n",
      "                                                                 \n",
      " dense (Dense)               (None, 256)               131328    \n",
      "                                                                 \n",
      " dense_1 (Dense)             (None, 128)               32896     \n",
      "                                                                 \n",
      " dense_2 (Dense)             (None, 15)                1935      \n",
      "                                                                 \n",
      "=================================================================\n",
      "Total params: 14,882,895\n",
      "Trainable params: 167,183\n",
      "Non-trainable params: 14,715,712\n",
      "_________________________________________________________________\n"
     ]
    }
   ],
   "source": [
    "# load model without classifier layers\n",
    "model = VGG16(include_top=False, \n",
    "              pooling='avg',\n",
    "              input_shape=(224, 224, 3))\n",
    "\n",
    "# mark loaded layers as not trainable\n",
    "for layer in model.layers:\n",
    "    layer.trainable = False\n",
    "    \n",
    "# add new classifier layers\n",
    "flat1 = Flatten()(model.layers[-1].output)\n",
    "bn = BatchNormalization()(flat1) # Added batnormalization from tensorflow. Take the previouslayer, normalise the values, and than pass them on\n",
    "class1 = Dense(256, \n",
    "               activation='relu')(bn) # Added new classification layer \n",
    "class2 = Dense(128, \n",
    "               activation='relu')(class1)\n",
    "output = Dense(15, # 15 labels\n",
    "               activation='softmax')(class2)\n",
    "\n",
    "# define new model\n",
    "model = Model(inputs=model.inputs, \n",
    "              outputs=output)\n",
    "\n",
    "# compile\n",
    "lr_schedule = tf.keras.optimizers.schedules.ExponentialDecay(\n",
    "    initial_learning_rate=0.01,\n",
    "    decay_steps=10000,\n",
    "    decay_rate=0.9)\n",
    "sgd = SGD(learning_rate=lr_schedule)\n",
    "\n",
    "model.compile(optimizer=sgd,\n",
    "              loss='categorical_crossentropy',\n",
    "              metrics=['accuracy'])\n",
    "# summarize\n",
    "model.summary()"
   ]
  },
  {
   "cell_type": "markdown",
   "metadata": {},
   "source": [
    "### Train model"
   ]
  },
  {
   "cell_type": "code",
   "execution_count": 14,
   "metadata": {},
   "outputs": [
    {
     "name": "stdout",
     "output_type": "stream",
     "text": [
      "Epoch 1/10\n"
     ]
    },
    {
     "name": "stderr",
     "output_type": "stream",
     "text": [
      "2023-04-21 21:10:32.375685: I tensorflow/core/common_runtime/executor.cc:1197] [/device:CPU:0] (DEBUG INFO) Executor start aborting (this does not indicate an error and you can ignore this message): INVALID_ARGUMENT: You must feed a value for placeholder tensor 'Placeholder/_0' with dtype int32\n",
      "\t [[{{node Placeholder/_0}}]]\n"
     ]
    },
    {
     "name": "stdout",
     "output_type": "stream",
     "text": [
      "79/79 [==============================] - ETA: 0s - loss: 2.3698 - accuracy: 0.2647 "
     ]
    },
    {
     "name": "stderr",
     "output_type": "stream",
     "text": [
      "2023-04-21 21:25:47.998935: I tensorflow/core/common_runtime/executor.cc:1197] [/device:CPU:0] (DEBUG INFO) Executor start aborting (this does not indicate an error and you can ignore this message): INVALID_ARGUMENT: You must feed a value for placeholder tensor 'Placeholder/_0' with dtype int32\n",
      "\t [[{{node Placeholder/_0}}]]\n"
     ]
    },
    {
     "name": "stdout",
     "output_type": "stream",
     "text": [
      "79/79 [==============================] - 1088s 14s/step - loss: 2.3698 - accuracy: 0.2647 - val_loss: 2.6414 - val_accuracy: 0.1365\n",
      "Epoch 2/10\n",
      "79/79 [==============================] - 377s 5s/step - loss: 1.7871 - accuracy: 0.4807 - val_loss: 2.4183 - val_accuracy: 0.2725\n",
      "Epoch 3/10\n",
      "79/79 [==============================] - 376s 5s/step - loss: 1.4846 - accuracy: 0.5569 - val_loss: 2.0839 - val_accuracy: 0.4515\n",
      "Epoch 4/10\n",
      "79/79 [==============================] - 625s 8s/step - loss: 1.3166 - accuracy: 0.6013 - val_loss: 1.7477 - val_accuracy: 0.5285\n",
      "Epoch 5/10\n",
      "79/79 [==============================] - 1001s 13s/step - loss: 1.2000 - accuracy: 0.6297 - val_loss: 1.4827 - val_accuracy: 0.5675\n",
      "Epoch 6/10\n",
      "79/79 [==============================] - 1090s 14s/step - loss: 1.1167 - accuracy: 0.6554 - val_loss: 1.3007 - val_accuracy: 0.6045\n",
      "Epoch 7/10\n",
      "79/79 [==============================] - 617s 8s/step - loss: 1.0536 - accuracy: 0.6694 - val_loss: 1.2006 - val_accuracy: 0.6075\n",
      "Epoch 8/10\n",
      "79/79 [==============================] - 372s 5s/step - loss: 1.0060 - accuracy: 0.6870 - val_loss: 1.1370 - val_accuracy: 0.6250\n",
      "Epoch 9/10\n",
      "79/79 [==============================] - 372s 5s/step - loss: 0.9600 - accuracy: 0.7015 - val_loss: 1.1113 - val_accuracy: 0.6370\n",
      "Epoch 10/10\n",
      "79/79 [==============================] - 375s 5s/step - loss: 0.9249 - accuracy: 0.7061 - val_loss: 1.0645 - val_accuracy: 0.6450\n"
     ]
    }
   ],
   "source": [
    "# fit the data generator to our images\n",
    "\n",
    "# fits the model on batches with real-time data augmentation:\n",
    "\n",
    "H = model.fit( # fitting the model to \n",
    "    X_train_tf, # training tensorflow dataframe \n",
    "    steps_per_epoch = len(X_train_tf), # take as many steps as the length of the dataframe \n",
    "    validation_data = val_tf, # Validation data \n",
    "    validation_steps = len(val_tf), \n",
    "    epochs = 10\n",
    ")\n",
    "# Possible to get image (stream the image) (stream it frow the dataGenerator) from the folder, instead of loading the image into the script. "
   ]
  },
  {
   "cell_type": "code",
   "execution_count": 15,
   "metadata": {},
   "outputs": [],
   "source": [
    "def plot_history(H, epochs):\n",
    "    plt.style.use(\"seaborn-colorblind\")\n",
    "\n",
    "    plt.figure(figsize=(12,6))\n",
    "    plt.subplot(1,2,1)\n",
    "    plt.plot(np.arange(0, epochs), H.history[\"loss\"], label=\"train_loss\")\n",
    "    plt.plot(np.arange(0, epochs), H.history[\"val_loss\"], label=\"val_loss\", linestyle=\":\")\n",
    "    plt.title(\"Loss curve\")\n",
    "    plt.xlabel(\"Epoch\")\n",
    "    plt.ylabel(\"Loss\")\n",
    "    plt.tight_layout()\n",
    "    plt.legend()\n",
    "\n",
    "    plt.subplot(1,2,2)\n",
    "    plt.plot(np.arange(0, epochs), H.history[\"accuracy\"], label=\"train_acc\")\n",
    "    plt.plot(np.arange(0, epochs), H.history[\"val_accuracy\"], label=\"val_acc\", linestyle=\":\")\n",
    "    plt.title(\"Accuracy curve\")\n",
    "    plt.xlabel(\"Epoch\")\n",
    "    plt.ylabel(\"Accuracy\")\n",
    "    plt.tight_layout()\n",
    "    plt.legend()\n",
    "    plt.show()"
   ]
  },
  {
   "cell_type": "code",
   "execution_count": 16,
   "metadata": {},
   "outputs": [
    {
     "name": "stderr",
     "output_type": "stream",
     "text": [
      "/tmp/ipykernel_639/3716877966.py:2: MatplotlibDeprecationWarning: The seaborn styles shipped by Matplotlib are deprecated since 3.6, as they no longer correspond to the styles shipped by seaborn. However, they will remain available as 'seaborn-v0_8-<style>'. Alternatively, directly use the seaborn API instead.\n",
      "  plt.style.use(\"seaborn-colorblind\")\n"
     ]
    },
    {
     "data": {
      "image/png": "[encoded data removed]",
      "text/plain": [
       "<Figure size 1200x600 with 2 Axes>"
      ]
     },
     "metadata": {},
     "output_type": "display_data"
    }
   ],
   "source": [
    "plot_history(H, 10) # Change to 10"
   ]
  },
  {
   "cell_type": "code",
   "execution_count": 17,
   "metadata": {},
   "outputs": [
    {
     "name": "stderr",
     "output_type": "stream",
     "text": [
      "2023-04-21 23:00:02.092720: I tensorflow/core/common_runtime/executor.cc:1197] [/device:CPU:0] (DEBUG INFO) Executor start aborting (this does not indicate an error and you can ignore this message): INVALID_ARGUMENT: You must feed a value for placeholder tensor 'Placeholder/_0' with dtype int32\n",
      "\t [[{{node Placeholder/_0}}]]\n"
     ]
    },
    {
     "name": "stdout",
     "output_type": "stream",
     "text": [
      "24/24 [==============================] - 206s 9s/step\n"
     ]
    },
    {
     "ename": "TypeError",
     "evalue": "classification_report() missing 2 required positional arguments: 'y_true' and 'y_pred'",
     "output_type": "error",
     "traceback": [
      "\u001b[0;31m---------------------------------------------------------------------------\u001b[0m",
      "\u001b[0;31mTypeError\u001b[0m                                 Traceback (most recent call last)",
      "Cell \u001b[0;32mIn[17], line 2\u001b[0m\n\u001b[1;32m      1\u001b[0m predictions \u001b[39m=\u001b[39m model\u001b[39m.\u001b[39mpredict(test_tf)\n\u001b[0;32m----> 2\u001b[0m \u001b[39mprint\u001b[39m(classification_report())\n",
      "\u001b[0;31mTypeError\u001b[0m: classification_report() missing 2 required positional arguments: 'y_true' and 'y_pred'"
     ]
    }
   ],
   "source": [
    "predictions = model.predict(test_tf)\n"
   ]
  }
 ],
 "metadata": {
  "kernelspec": {
   "display_name": "Python 3",
   "language": "python",
   "name": "python3"
  },
  "language_info": {
   "codemirror_mode": {
    "name": "ipython",
    "version": 3
   },
   "file_extension": ".py",
   "mimetype": "text/x-python",
   "name": "python",
   "nbconvert_exporter": "python",
   "pygments_lexer": "ipython3",
   "version": "3.9.2"
  },
  "orig_nbformat": 4,
  "vscode": {
   "interpreter": {
    "hash": "767d51c1340bd893661ea55ea3124f6de3c7a262a8b4abca0554b478b1e2ff90"
   }
  }
 },
 "nbformat": 4,
 "nbformat_minor": 2
}
